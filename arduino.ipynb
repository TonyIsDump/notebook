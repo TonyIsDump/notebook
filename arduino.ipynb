{
 "cells": [
  {
   "cell_type": "markdown",
   "id": "f3e62f37-a4a8-43f1-b54c-1f4882676778",
   "metadata": {
    "jp-MarkdownHeadingCollapsed": true
   },
   "source": [
    "# RFID project"
   ]
  },
  {
   "cell_type": "markdown",
   "id": "5b10929d-c8b8-4853-a974-2f7fd9e52d86",
   "metadata": {},
   "source": [
    "1. if no card is scan, the red led keeps turning on\n",
    "2. if the correct card is scan, the green led lights up for 5 second\n",
    "3. if the incorrect card(not authorized) is scan, the alarm will ring"
   ]
  },
  {
   "cell_type": "markdown",
   "id": "bab0411e-f76b-4f93-a243-f1a08a849209",
   "metadata": {},
   "source": [
    "# Line Follower Robot "
   ]
  },
  {
   "cell_type": "markdown",
   "id": "ca1153b2-8914-4cd2-81bb-dd7c53f81e6b",
   "metadata": {},
   "source": [
    "try to apply pid on it"
   ]
  },
  {
   "cell_type": "code",
   "execution_count": null,
   "id": "200bb7e9-191f-43fb-9221-a1816025ce77",
   "metadata": {},
   "outputs": [],
   "source": []
  }
 ],
 "metadata": {
  "kernelspec": {
   "display_name": "Python 3 (ipykernel)",
   "language": "python",
   "name": "python3"
  },
  "language_info": {
   "codemirror_mode": {
    "name": "ipython",
    "version": 3
   },
   "file_extension": ".py",
   "mimetype": "text/x-python",
   "name": "python",
   "nbconvert_exporter": "python",
   "pygments_lexer": "ipython3",
   "version": "3.11.5"
  }
 },
 "nbformat": 4,
 "nbformat_minor": 5
}
